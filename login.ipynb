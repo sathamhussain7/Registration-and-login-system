{
  "nbformat": 4,
  "nbformat_minor": 0,
  "metadata": {
    "colab": {
      "provenance": [],
      "authorship_tag": "ABX9TyMhKKgO7dFSlmzy3GBJFkXF",
      "include_colab_link": true
    },
    "kernelspec": {
      "name": "python3",
      "display_name": "Python 3"
    },
    "language_info": {
      "name": "python"
    }
  },
  "cells": [
    {
      "cell_type": "markdown",
      "metadata": {
        "id": "view-in-github",
        "colab_type": "text"
      },
      "source": [
        "<a href=\"https://colab.research.google.com/github/sathamhussain7/Registration-and-login-system/blob/main/login.ipynb\" target=\"_parent\"><img src=\"https://colab.research.google.com/assets/colab-badge.svg\" alt=\"Open In Colab\"/></a>"
      ]
    },
    {
      "cell_type": "code",
      "source": [
        "def registration():\n",
        "\n",
        "    import re\n",
        "\n",
        "    user=input('Generate your mail ID:')\n",
        "\n",
        "    data=[]\n",
        "    file1=open('/content/Data','r')\n",
        "    for i in file1:\n",
        "      f=i.split(',')\n",
        "      if user==f[0]:\n",
        "       data.append(f[0])\n",
        "    if len(data)==1:   \n",
        "      print('User already exists,try another')  \n",
        "      return  \n",
        "\n",
        "    if re.match('[A-Za-z]{1,10}[A-Za-z0-9!#$%*+_-]{1,5}[@]{1}[a-zA-Z]{1,5}[.]{1}[A-Za-z]{1,3}$',user):\n",
        "     print('mail ID valid')\n",
        "    else:\n",
        "     print('invalid mail ID')\n",
        "     print('try another')\n",
        "     return\n",
        "\n",
        "    password=input('Generate your password:')\n",
        "\n",
        "    if re.match('[A-Z]{1,5}[a-z]{2,5}[@!#$%*+_-]{1}[0-9]{2,5}$',password):\n",
        "     print('password valid')\n",
        "     print('registration suceessful')\n",
        "    else:\n",
        "     print('password not strong')\n",
        "     print('try another')\n",
        "     return\n",
        "     \n",
        "     #store data\n",
        "\n",
        "    store=user+','+password+'\\n'\n",
        "    file1=open('/content/Data','a')\n",
        "    file1.write(store)\n",
        "    file1.close()\n",
        "\n",
        "\n",
        "#print(registration()) \n",
        "\n",
        "\n",
        "def login():\n",
        "\n",
        " user=input('Enter your mail ID:')\n",
        "\n",
        " userdata=[]\n",
        " file1=open('/content/Data','r')\n",
        " for i in file1:\n",
        "  f=i.split(',')\n",
        "  if f[0]==user:\n",
        "    userdata.append(f[0])\n",
        " if len(userdata)==1:   \n",
        "  print('User valid')\n",
        " else:\n",
        "   print(\"User not exist\")\n",
        "   print('Kindly go for registration')\n",
        "   return\n",
        "   \n",
        " password=input('Enter your password:')\n",
        "\n",
        " userpassword=[]\n",
        " file1=open('/content/Data','r')\n",
        " for i in file1:\n",
        "  f=i.split(',')\n",
        "  if f[1]==password+'\\n':\n",
        "   userpassword.append(f[1])\n",
        " if len(userpassword)==1:\n",
        "  print('Login successful')\n",
        " else:\n",
        "  print('Wrong password')\n",
        "  print('Kindly go for forgot password')\n",
        " file1.close()\n",
        "    \n",
        "\n",
        "\n",
        "#print(login())\n",
        "\n",
        "\n",
        "def forgot_password():\n",
        "\n",
        "\n",
        " user=input('Enter your mail ID:')\n",
        " userdata=[]\n",
        " file1=open('/content/Data','r')\n",
        " for i in file1:\n",
        "  f=i.split(',')\n",
        "  if f[0]==user:\n",
        "     userdata.append(f[1].replace('\\n',''))\n",
        " if len(userdata)==1:    \n",
        "    print('user valid')\n",
        "    print('your password is:', ''.join(userdata))\n",
        " else:\n",
        "    print('user not exist,go for registration')\n",
        "\n",
        "    \n",
        "\n",
        "#print(forgot_password()) \n",
        "\n",
        "\n",
        "def main():\n",
        "\n",
        "  option=int(input('choose your option 1-regestration 2-login 3-forgot_password:'))\n",
        "\n",
        "  if option==1:\n",
        "   registration()\n",
        "  elif option==2:\n",
        "   login()\n",
        "  elif option==3:\n",
        "   forgot_password()\n",
        "  else:\n",
        "    print('choose correct option')\n",
        "\n"
      ],
      "metadata": {
        "id": "puZGjIcAJTR2"
      },
      "execution_count": null,
      "outputs": []
    },
    {
      "cell_type": "code",
      "source": [
        "main()\n"
      ],
      "metadata": {
        "colab": {
          "base_uri": "https://localhost:8080/"
        },
        "id": "ihd4kgCaJJwq",
        "outputId": "ad3157b0-64ec-4043-89ad-10f3ce61ffb3"
      },
      "execution_count": null,
      "outputs": [
        {
          "output_type": "stream",
          "name": "stdout",
          "text": [
            "choose your option 1-regestration 2-login 3-forgot_password:1\n",
            "Generate your mail ID:sam11@gmail.com\n",
            "mail ID valid\n",
            "Generate your password:Sam@11\n",
            "password valid\n",
            "registration suceessful\n"
          ]
        }
      ]
    }
  ]
}